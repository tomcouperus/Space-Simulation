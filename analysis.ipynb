{
 "cells": [
  {
   "cell_type": "code",
   "execution_count": null,
   "metadata": {},
   "outputs": [],
   "source": [
    "import json\n",
    "import matplotlib.pyplot as plt"
   ]
  },
  {
   "cell_type": "code",
   "execution_count": null,
   "metadata": {},
   "outputs": [],
   "source": [
    "def GetData(file):\n",
    "    '''\n",
    "    Parses the data in a `.json` file produced by the Unity simulation into an array for each body\n",
    "\n",
    "    Returns:\n",
    "        `timeValues`: Array of time values\n",
    "\n",
    "        `celestialBodies`: Dictionary of arrays for each celestial body\n",
    "\n",
    "        `lagrangePoints`: Dictionary of arrays for each lagrange point\n",
    "    '''\n",
    "    raw = json.load(file)\n",
    "\n",
    "    timeValues = []\n",
    "    celestialBodies = {}\n",
    "    lagrangePoints = {}\n",
    "    for entry in raw:\n",
    "        timeValues.append(entry['time'])\n",
    "        celestialBodyRaw = entry['celestialBodyData']\n",
    "        for cb in celestialBodyRaw:\n",
    "            name = cb['name']\n",
    "            if (name not in celestialBodies):\n",
    "                celestialBodies[name] = []\n",
    "            celestialBodies[name].append(cb)\n",
    "\n",
    "        lagrangePointRaw = entry['lagrangePointData']\n",
    "        for lp in lagrangePointRaw:\n",
    "            name = lp['name']\n",
    "            if (name not in lagrangePoints):\n",
    "                lagrangePoints[name] = []\n",
    "            lagrangePoints[name].append(lp)\n",
    "\n",
    "    return timeValues, celestialBodies, lagrangePoints"
   ]
  },
  {
   "cell_type": "code",
   "execution_count": null,
   "metadata": {},
   "outputs": [],
   "source": [
    "def GetPositions(arrayOfDictsWithPos):\n",
    "    '''\n",
    "    Creates a dictionary of the positions of a celestial body or lagrange point through time\n",
    "    '''\n",
    "    positions = {\n",
    "        'x' : [e['position']['x'] for e in arrayOfDictsWithPos],\n",
    "        'y' : [e['position']['y'] for e in arrayOfDictsWithPos],\n",
    "        'z' : [e['position']['z'] for e in arrayOfDictsWithPos]\n",
    "    }\n",
    "    return positions"
   ]
  },
  {
   "cell_type": "code",
   "execution_count": null,
   "metadata": {},
   "outputs": [],
   "source": [
    "f = open('Data/Basic_Setup.json')\n",
    "timeValues, celestialBodies, lagrangePoints = GetData(f)\n",
    "\n",
    "jupiterPos = GetPositions(celestialBodies['Jupiter'])\n",
    "\n",
    "plt.plot(jupiterPos['x'], jupiterPos['z'])"
   ]
  }
 ],
 "metadata": {
  "kernelspec": {
   "display_name": ".venv",
   "language": "python",
   "name": "python3"
  },
  "language_info": {
   "codemirror_mode": {
    "name": "ipython",
    "version": 3
   },
   "file_extension": ".py",
   "mimetype": "text/x-python",
   "name": "python",
   "nbconvert_exporter": "python",
   "pygments_lexer": "ipython3",
   "version": "3.11.3"
  },
  "orig_nbformat": 4
 },
 "nbformat": 4,
 "nbformat_minor": 2
}
